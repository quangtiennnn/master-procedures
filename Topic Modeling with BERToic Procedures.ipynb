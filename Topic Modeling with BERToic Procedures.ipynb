{
 "cells": [
  {
   "cell_type": "markdown",
   "id": "f65437a4",
   "metadata": {},
   "source": [
    "# Implement all the process"
   ]
  },
  {
   "cell_type": "code",
   "execution_count": null,
   "id": "44236467",
   "metadata": {},
   "outputs": [],
   "source": [
    "%%capture\n",
    "import csv\n",
    "import numpy as np\n",
    "import pandas as pd\n",
    "\n",
    "from topic_modeling import *"
   ]
  },
  {
   "cell_type": "markdown",
   "id": "f729a74b",
   "metadata": {},
   "source": [
    "## DataFrame"
   ]
  },
  {
   "cell_type": "code",
   "execution_count": 4,
   "id": "8d347e53",
   "metadata": {},
   "outputs": [
    {
     "name": "stderr",
     "output_type": "stream",
     "text": [
      "C:\\Users\\darkn\\AppData\\Local\\Temp\\ipykernel_22440\\1053113034.py:1: DtypeWarning: Columns (16,17,20,21) have mixed types. Specify dtype option on import or set low_memory=False.\n",
      "  df = pd.read_csv('database/hotel_review_en_vi_with_distance.csv')\n"
     ]
    }
   ],
   "source": [
    "df = pd.read_csv('database/hotel_review_en_vi_with_distance.csv')"
   ]
  },
  {
   "cell_type": "code",
   "execution_count": 5,
   "id": "7bbffbe4",
   "metadata": {},
   "outputs": [
    {
     "data": {
      "text/html": [
       "<div>\n",
       "<style scoped>\n",
       "    .dataframe tbody tr th:only-of-type {\n",
       "        vertical-align: middle;\n",
       "    }\n",
       "\n",
       "    .dataframe tbody tr th {\n",
       "        vertical-align: top;\n",
       "    }\n",
       "\n",
       "    .dataframe thead th {\n",
       "        text-align: right;\n",
       "    }\n",
       "</style>\n",
       "<table border=\"1\" class=\"dataframe\">\n",
       "  <thead>\n",
       "    <tr style=\"text-align: right;\">\n",
       "      <th></th>\n",
       "      <th>hotel_id</th>\n",
       "      <th>hotel_name</th>\n",
       "      <th>addressline1</th>\n",
       "      <th>city</th>\n",
       "      <th>state</th>\n",
       "      <th>numberrooms</th>\n",
       "      <th>yearopened</th>\n",
       "      <th>yearrenovated</th>\n",
       "      <th>number_of_reviews</th>\n",
       "      <th>rating_average</th>\n",
       "      <th>...</th>\n",
       "      <th>accommodationtype2</th>\n",
       "      <th>accommodationtype3</th>\n",
       "      <th>accommodationtype4</th>\n",
       "      <th>language</th>\n",
       "      <th>reviewer_continent</th>\n",
       "      <th>longitude</th>\n",
       "      <th>latitude</th>\n",
       "      <th>hotel_coordinate</th>\n",
       "      <th>dis2coast</th>\n",
       "      <th>nearest_coordinate</th>\n",
       "    </tr>\n",
       "  </thead>\n",
       "  <tbody>\n",
       "    <tr>\n",
       "      <th>0</th>\n",
       "      <td>163</td>\n",
       "      <td>Ramana Saigon Hotel</td>\n",
       "      <td>323 Le Van Sy Street, District 3</td>\n",
       "      <td>Ho Chi Minh City</td>\n",
       "      <td>Ho Chi Minh</td>\n",
       "      <td>296.0</td>\n",
       "      <td>1996.0</td>\n",
       "      <td>2015.0</td>\n",
       "      <td>1713</td>\n",
       "      <td>8.1</td>\n",
       "      <td>...</td>\n",
       "      <td>NaN</td>\n",
       "      <td>NaN</td>\n",
       "      <td>NaN</td>\n",
       "      <td>en</td>\n",
       "      <td>Asia</td>\n",
       "      <td>106.678101</td>\n",
       "      <td>10.787597</td>\n",
       "      <td>POINT (106.678101 10.787597)</td>\n",
       "      <td>47.465</td>\n",
       "      <td>POINT (11907922.454514029 1165509.8719933222)</td>\n",
       "    </tr>\n",
       "    <tr>\n",
       "      <th>1</th>\n",
       "      <td>163</td>\n",
       "      <td>Ramana Saigon Hotel</td>\n",
       "      <td>323 Le Van Sy Street, District 3</td>\n",
       "      <td>Ho Chi Minh City</td>\n",
       "      <td>Ho Chi Minh</td>\n",
       "      <td>296.0</td>\n",
       "      <td>1996.0</td>\n",
       "      <td>2015.0</td>\n",
       "      <td>1713</td>\n",
       "      <td>8.1</td>\n",
       "      <td>...</td>\n",
       "      <td>NaN</td>\n",
       "      <td>NaN</td>\n",
       "      <td>NaN</td>\n",
       "      <td>en</td>\n",
       "      <td>Asia</td>\n",
       "      <td>106.678101</td>\n",
       "      <td>10.787597</td>\n",
       "      <td>POINT (106.678101 10.787597)</td>\n",
       "      <td>47.465</td>\n",
       "      <td>POINT (11907922.454514029 1165509.8719933222)</td>\n",
       "    </tr>\n",
       "  </tbody>\n",
       "</table>\n",
       "<p>2 rows × 30 columns</p>\n",
       "</div>"
      ],
      "text/plain": [
       "   hotel_id           hotel_name                        addressline1  \\\n",
       "0       163  Ramana Saigon Hotel  323 Le Van Sy Street, District 3     \n",
       "1       163  Ramana Saigon Hotel  323 Le Van Sy Street, District 3     \n",
       "\n",
       "               city        state  numberrooms  yearopened  yearrenovated  \\\n",
       "0  Ho Chi Minh City  Ho Chi Minh        296.0      1996.0         2015.0   \n",
       "1  Ho Chi Minh City  Ho Chi Minh        296.0      1996.0         2015.0   \n",
       "\n",
       "   number_of_reviews  rating_average  ...  accommodationtype2  \\\n",
       "0               1713             8.1  ...                 NaN   \n",
       "1               1713             8.1  ...                 NaN   \n",
       "\n",
       "  accommodationtype3 accommodationtype4 language reviewer_continent  \\\n",
       "0                NaN                NaN       en               Asia   \n",
       "1                NaN                NaN       en               Asia   \n",
       "\n",
       "    longitude   latitude              hotel_coordinate  dis2coast  \\\n",
       "0  106.678101  10.787597  POINT (106.678101 10.787597)     47.465   \n",
       "1  106.678101  10.787597  POINT (106.678101 10.787597)     47.465   \n",
       "\n",
       "                              nearest_coordinate  \n",
       "0  POINT (11907922.454514029 1165509.8719933222)  \n",
       "1  POINT (11907922.454514029 1165509.8719933222)  \n",
       "\n",
       "[2 rows x 30 columns]"
      ]
     },
     "execution_count": 5,
     "metadata": {},
     "output_type": "execute_result"
    }
   ],
   "source": [
    "df.head(2),df"
   ]
  },
  {
   "cell_type": "markdown",
   "id": "8d0bf094",
   "metadata": {},
   "source": [
    "## Selection"
   ]
  }
 ],
 "metadata": {
  "kernelspec": {
   "display_name": "Python 3 (ipykernel)",
   "language": "python",
   "name": "python3"
  },
  "language_info": {
   "codemirror_mode": {
    "name": "ipython",
    "version": 3
   },
   "file_extension": ".py",
   "mimetype": "text/x-python",
   "name": "python",
   "nbconvert_exporter": "python",
   "pygments_lexer": "ipython3",
   "version": "3.10.6"
  }
 },
 "nbformat": 4,
 "nbformat_minor": 5
}
