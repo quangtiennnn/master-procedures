{
 "cells": [
  {
   "cell_type": "code",
   "execution_count": 1,
   "id": "1beb4d69-1c4b-426e-b497-00183bd31e16",
   "metadata": {},
   "outputs": [
    {
     "name": "stderr",
     "output_type": "stream",
     "text": [
      "C:\\Users\\darkn\\AppData\\Local\\Programs\\Python\\Python310\\lib\\site-packages\\sentence_transformers\\cross_encoder\\CrossEncoder.py:11: TqdmExperimentalWarning: Using `tqdm.autonotebook.tqdm` in notebook mode. Use `tqdm.tqdm` instead to force console mode (e.g. in jupyter console)\n",
      "  from tqdm.autonotebook import tqdm, trange\n"
     ]
    },
    {
     "name": "stdout",
     "output_type": "stream",
     "text": [
      "WARNING:tensorflow:From C:\\Users\\darkn\\AppData\\Local\\Programs\\Python\\Python310\\lib\\site-packages\\tf_keras\\src\\losses.py:2976: The name tf.losses.sparse_softmax_cross_entropy is deprecated. Please use tf.compat.v1.losses.sparse_softmax_cross_entropy instead.\n",
      "\n"
     ]
    }
   ],
   "source": [
    "%%capture\n",
    "import csv\n",
    "import numpy as np\n",
    "import pandas as pd\n",
    "from sentence_transformers import SentenceTransformer\n",
    "import pandas as pd\n",
    "\n",
    "from scrips.tools import *"
   ]
  },
  {
   "cell_type": "markdown",
   "id": "293620aa-ee6e-40c2-a828-7fa45d196250",
   "metadata": {},
   "source": [
    "# Importing data"
   ]
  },
  {
   "cell_type": "code",
   "execution_count": 14,
   "id": "177fc885-15f9-4944-8632-b096046c9206",
   "metadata": {},
   "outputs": [
    {
     "name": "stderr",
     "output_type": "stream",
     "text": [
      "C:\\Users\\darkn\\AppData\\Local\\Temp\\ipykernel_4840\\1053113034.py:1: DtypeWarning: Columns (16,17,20,21) have mixed types. Specify dtype option on import or set low_memory=False.\n",
      "  df = pd.read_csv('database/hotel_review_en_vi_with_distance.csv')\n"
     ]
    }
   ],
   "source": [
    "df = pd.read_csv('database/hotel_review_en_vi_with_distance.csv')"
   ]
  },
  {
   "cell_type": "markdown",
   "id": "09c2587e-97e6-4e06-abb2-008213551d7f",
   "metadata": {},
   "source": [
    "# Preprocessing"
   ]
  },
  {
   "cell_type": "markdown",
   "id": "83d2df82-7ed1-4328-85b7-10867dda04d1",
   "metadata": {},
   "source": [
    "We suggest on doing on big dataframe first since it is better to re-use than training again. \n",
    "\n",
    "However, we still simulate two type of preprocessing on `type = \"sample\"` and `type = \"population\"`"
   ]
  },
  {
   "cell_type": "markdown",
   "id": "5b2cfa99-3bef-4f60-b335-cdd220a5089f",
   "metadata": {},
   "source": [
    "## Sample"
   ]
  },
  {
   "cell_type": "code",
   "execution_count": 15,
   "id": "c2f62180-8d9b-4167-a970-72b029ace34f",
   "metadata": {},
   "outputs": [],
   "source": [
    "sample = df.sample(n = 30)"
   ]
  },
  {
   "cell_type": "markdown",
   "id": "a73d4b84-8860-4115-a5ae-5becb05617ef",
   "metadata": {},
   "source": [
    "We set `type = 'sample'` as default setting"
   ]
  },
  {
   "cell_type": "code",
   "execution_count": 16,
   "id": "b358d6b3-fe3e-4855-bdc3-5e012455861d",
   "metadata": {},
   "outputs": [],
   "source": [
    "def preprocess(df: pd.DataFrame,type = 'sample'):\n",
    "    print(\"Preprocesing...\")\n",
    "    if type == 'sample':\n",
    "        df['processed_comment'] = df['comment'].astype(str).apply(normalization)\n",
    "        df['processed_comment'] = df.apply(lambda row: word_segmentation(row['processed_comment'], row['language']), axis=1)\n",
    "        return df\n",
    "    elif type == 'population':\n",
    "        file_path = 'database/processed_hotel_reviews.csv'\n",
    "        if os.path.isfile(file_path):\n",
    "            df = pd.read_csv(file_path, index_col=0)\n",
    "        else:    \n",
    "            df['processed_comment'] = df['comment'].astype(str).apply(normalization)\n",
    "            df['processed_comment'] = df.apply(lambda row: word_segmentation(row['processed_comment'], row['language']), axis=1)\n",
    "            df.to_csv(file_path,index= True,encoding = 'utf-8-sig')\n",
    "        return df"
   ]
  },
  {
   "cell_type": "code",
   "execution_count": 20,
   "id": "e152c0a9-5edc-4478-be25-fac912c13a35",
   "metadata": {},
   "outputs": [
    {
     "name": "stdout",
     "output_type": "stream",
     "text": [
      "Preprocesing...\n",
      "CPU times: total: 250 ms\n",
      "Wall time: 268 ms\n"
     ]
    },
    {
     "data": {
      "text/html": [
       "<div>\n",
       "<style scoped>\n",
       "    .dataframe tbody tr th:only-of-type {\n",
       "        vertical-align: middle;\n",
       "    }\n",
       "\n",
       "    .dataframe tbody tr th {\n",
       "        vertical-align: top;\n",
       "    }\n",
       "\n",
       "    .dataframe thead th {\n",
       "        text-align: right;\n",
       "    }\n",
       "</style>\n",
       "<table border=\"1\" class=\"dataframe\">\n",
       "  <thead>\n",
       "    <tr style=\"text-align: right;\">\n",
       "      <th></th>\n",
       "      <th>comment</th>\n",
       "      <th>processed_comment</th>\n",
       "    </tr>\n",
       "  </thead>\n",
       "  <tbody>\n",
       "    <tr>\n",
       "      <th>46633</th>\n",
       "      <td>Really nice hotel with great facilities and a ...</td>\n",
       "      <td>really nice hotel with great facilities and a ...</td>\n",
       "    </tr>\n",
       "    <tr>\n",
       "      <th>65037</th>\n",
       "      <td>Hotel is located at center position. Easy for ...</td>\n",
       "      <td>hotel is located at center position easy for t...</td>\n",
       "    </tr>\n",
       "    <tr>\n",
       "      <th>115320</th>\n",
       "      <td>Đáng giá và là ưu tiên hàng đầu</td>\n",
       "      <td>đáng_giá và là ưu_tiên hàng_đầu</td>\n",
       "    </tr>\n",
       "    <tr>\n",
       "      <th>26071</th>\n",
       "      <td>Thật tuyệt, từ khách sạn có thể đi bộ để tận h...</td>\n",
       "      <td>thật tuyệt từ khách_sạn có_thể đi bộ để tận_hư...</td>\n",
       "    </tr>\n",
       "    <tr>\n",
       "      <th>114753</th>\n",
       "      <td>Near the market, love it</td>\n",
       "      <td>near the market love it</td>\n",
       "    </tr>\n",
       "    <tr>\n",
       "      <th>13686</th>\n",
       "      <td>The staff at the reception was very friendly a...</td>\n",
       "      <td>the staff at the reception was very friendly a...</td>\n",
       "    </tr>\n",
       "    <tr>\n",
       "      <th>58930</th>\n",
       "      <td>Balcony is close to the beach, and close to ev...</td>\n",
       "      <td>balcony is close to the beach and close to eve...</td>\n",
       "    </tr>\n",
       "    <tr>\n",
       "      <th>27074</th>\n",
       "      <td>Very pleasant stay. Welcome drink on arrival, ...</td>\n",
       "      <td>very pleasant stay welcome drink on arrival fr...</td>\n",
       "    </tr>\n",
       "    <tr>\n",
       "      <th>22801</th>\n",
       "      <td>Front reception make me feel unreliable</td>\n",
       "      <td>front reception make me feel unreliable</td>\n",
       "    </tr>\n",
       "    <tr>\n",
       "      <th>64394</th>\n",
       "      <td>Khách sạn ok</td>\n",
       "      <td>khách_sạn ok</td>\n",
       "    </tr>\n",
       "    <tr>\n",
       "      <th>50964</th>\n",
       "      <td>Tôi đã sử dụng dịch vụ ở đây và cảm thấy rất h...</td>\n",
       "      <td>tôi đã sử_dụng dịch_vụ ở đây và cảm_thấy rất h...</td>\n",
       "    </tr>\n",
       "    <tr>\n",
       "      <th>85329</th>\n",
       "      <td>very clean. Good</td>\n",
       "      <td>very clean good</td>\n",
       "    </tr>\n",
       "    <tr>\n",
       "      <th>115991</th>\n",
       "      <td>This was a good place to stay near the airport...</td>\n",
       "      <td>this was a good place to stay near the airport...</td>\n",
       "    </tr>\n",
       "    <tr>\n",
       "      <th>1984</th>\n",
       "      <td>Tôi thích khách sạn này. MỘt nơi thật tuyệt để...</td>\n",
       "      <td>tôi thích khách_sạn này một nơi thật tuyệt để ...</td>\n",
       "    </tr>\n",
       "    <tr>\n",
       "      <th>107977</th>\n",
       "      <td>Phòng sạch đẹp lắm nha m.ng. Nhân viên cực kì ...</td>\n",
       "      <td>phòng sạch đẹp lắm nha mng nhân_viên cực_kì nh...</td>\n",
       "    </tr>\n",
       "    <tr>\n",
       "      <th>43840</th>\n",
       "      <td>The room could have been cleaner, the tub was ...</td>\n",
       "      <td>the room could have been cleaner the tub was d...</td>\n",
       "    </tr>\n",
       "    <tr>\n",
       "      <th>123684</th>\n",
       "      <td>Good location. Near center square/ Sa dec flow...</td>\n",
       "      <td>good location near center square sa dec flower...</td>\n",
       "    </tr>\n",
       "    <tr>\n",
       "      <th>74516</th>\n",
       "      <td>nice hotel to stay</td>\n",
       "      <td>nice hotel to stay</td>\n",
       "    </tr>\n",
       "    <tr>\n",
       "      <th>52330</th>\n",
       "      <td>for what i paid it was o k .staff were very he...</td>\n",
       "      <td>for what i paid it was o k staff were very hel...</td>\n",
       "    </tr>\n",
       "    <tr>\n",
       "      <th>98786</th>\n",
       "      <td>So far, Legacy is the best resort I've stayed ...</td>\n",
       "      <td>so far legacy is the best resort i ve stayed i...</td>\n",
       "    </tr>\n",
       "    <tr>\n",
       "      <th>58041</th>\n",
       "      <td>MỌI KHI VẪN Ở MƯỜNG THANH , TẤT CẢ MỌI THỨ ĐỀU...</td>\n",
       "      <td>mọi khi vẫn ở mường_thanh tất_cả mọi thứ đều o...</td>\n",
       "    </tr>\n",
       "    <tr>\n",
       "      <th>94765</th>\n",
       "      <td>I visited this hotel with great joy!! It was a...</td>\n",
       "      <td>i visited this hotel with great joy it was a g...</td>\n",
       "    </tr>\n",
       "    <tr>\n",
       "      <th>43951</th>\n",
       "      <td>had a huge cockroach in my room, but was able ...</td>\n",
       "      <td>had a huge cockroach in my room but was able t...</td>\n",
       "    </tr>\n",
       "    <tr>\n",
       "      <th>14436</th>\n",
       "      <td>Khách sạn có sale giảm giá thấp thì nhớ để ý l...</td>\n",
       "      <td>khách_sạn có sale giảm_giá thấp thì nhớ để_ý l...</td>\n",
       "    </tr>\n",
       "    <tr>\n",
       "      <th>9506</th>\n",
       "      <td>Very polite and efficient</td>\n",
       "      <td>very polite and efficient</td>\n",
       "    </tr>\n",
       "    <tr>\n",
       "      <th>112508</th>\n",
       "      <td>Mình nay du lịch 2 người và đặt phòng tại đây....</td>\n",
       "      <td>mình nay du_lịch 2 người và đặt phòng tại đây ...</td>\n",
       "    </tr>\n",
       "    <tr>\n",
       "      <th>39939</th>\n",
       "      <td>Enjoy staying here. Breakfast is good, wifi is...</td>\n",
       "      <td>enjoy staying here breakfast is good wifi is g...</td>\n",
       "    </tr>\n",
       "    <tr>\n",
       "      <th>89616</th>\n",
       "      <td>Good Buffet!</td>\n",
       "      <td>good buffet</td>\n",
       "    </tr>\n",
       "    <tr>\n",
       "      <th>18845</th>\n",
       "      <td>Perfect overnight stay at BSH. Staff were very...</td>\n",
       "      <td>perfect overnight stay at bsh staff were very ...</td>\n",
       "    </tr>\n",
       "    <tr>\n",
       "      <th>107779</th>\n",
       "      <td>good choice</td>\n",
       "      <td>good choice</td>\n",
       "    </tr>\n",
       "  </tbody>\n",
       "</table>\n",
       "</div>"
      ],
      "text/plain": [
       "                                                  comment  \\\n",
       "46633   Really nice hotel with great facilities and a ...   \n",
       "65037   Hotel is located at center position. Easy for ...   \n",
       "115320                    Đáng giá và là ưu tiên hàng đầu   \n",
       "26071   Thật tuyệt, từ khách sạn có thể đi bộ để tận h...   \n",
       "114753                           Near the market, love it   \n",
       "13686   The staff at the reception was very friendly a...   \n",
       "58930   Balcony is close to the beach, and close to ev...   \n",
       "27074   Very pleasant stay. Welcome drink on arrival, ...   \n",
       "22801             Front reception make me feel unreliable   \n",
       "64394                                        Khách sạn ok   \n",
       "50964   Tôi đã sử dụng dịch vụ ở đây và cảm thấy rất h...   \n",
       "85329                                    very clean. Good   \n",
       "115991  This was a good place to stay near the airport...   \n",
       "1984    Tôi thích khách sạn này. MỘt nơi thật tuyệt để...   \n",
       "107977  Phòng sạch đẹp lắm nha m.ng. Nhân viên cực kì ...   \n",
       "43840   The room could have been cleaner, the tub was ...   \n",
       "123684  Good location. Near center square/ Sa dec flow...   \n",
       "74516                                  nice hotel to stay   \n",
       "52330   for what i paid it was o k .staff were very he...   \n",
       "98786   So far, Legacy is the best resort I've stayed ...   \n",
       "58041   MỌI KHI VẪN Ở MƯỜNG THANH , TẤT CẢ MỌI THỨ ĐỀU...   \n",
       "94765   I visited this hotel with great joy!! It was a...   \n",
       "43951   had a huge cockroach in my room, but was able ...   \n",
       "14436   Khách sạn có sale giảm giá thấp thì nhớ để ý l...   \n",
       "9506                            Very polite and efficient   \n",
       "112508  Mình nay du lịch 2 người và đặt phòng tại đây....   \n",
       "39939   Enjoy staying here. Breakfast is good, wifi is...   \n",
       "89616                                        Good Buffet!   \n",
       "18845   Perfect overnight stay at BSH. Staff were very...   \n",
       "107779                                        good choice   \n",
       "\n",
       "                                        processed_comment  \n",
       "46633   really nice hotel with great facilities and a ...  \n",
       "65037   hotel is located at center position easy for t...  \n",
       "115320                    đáng_giá và là ưu_tiên hàng_đầu  \n",
       "26071   thật tuyệt từ khách_sạn có_thể đi bộ để tận_hư...  \n",
       "114753                            near the market love it  \n",
       "13686   the staff at the reception was very friendly a...  \n",
       "58930   balcony is close to the beach and close to eve...  \n",
       "27074   very pleasant stay welcome drink on arrival fr...  \n",
       "22801             front reception make me feel unreliable  \n",
       "64394                                        khách_sạn ok  \n",
       "50964   tôi đã sử_dụng dịch_vụ ở đây và cảm_thấy rất h...  \n",
       "85329                                     very clean good  \n",
       "115991  this was a good place to stay near the airport...  \n",
       "1984    tôi thích khách_sạn này một nơi thật tuyệt để ...  \n",
       "107977  phòng sạch đẹp lắm nha mng nhân_viên cực_kì nh...  \n",
       "43840   the room could have been cleaner the tub was d...  \n",
       "123684  good location near center square sa dec flower...  \n",
       "74516                                  nice hotel to stay  \n",
       "52330   for what i paid it was o k staff were very hel...  \n",
       "98786   so far legacy is the best resort i ve stayed i...  \n",
       "58041   mọi khi vẫn ở mường_thanh tất_cả mọi thứ đều o...  \n",
       "94765   i visited this hotel with great joy it was a g...  \n",
       "43951   had a huge cockroach in my room but was able t...  \n",
       "14436   khách_sạn có sale giảm_giá thấp thì nhớ để_ý l...  \n",
       "9506                            very polite and efficient  \n",
       "112508  mình nay du_lịch 2 người và đặt phòng tại đây ...  \n",
       "39939   enjoy staying here breakfast is good wifi is g...  \n",
       "89616                                         good buffet  \n",
       "18845   perfect overnight stay at bsh staff were very ...  \n",
       "107779                                        good choice  "
      ]
     },
     "execution_count": 20,
     "metadata": {},
     "output_type": "execute_result"
    }
   ],
   "source": [
    "%%time\n",
    "processed_df = preprocess(sample,type = 'sample')\n",
    "processed_df[['comment','processed_comment']]"
   ]
  },
  {
   "cell_type": "markdown",
   "id": "b8dc0889-d6a8-4e91-a272-3e30eb57a8c7",
   "metadata": {},
   "source": [
    "We storing the **index** also too use that again if needed"
   ]
  },
  {
   "cell_type": "code",
   "execution_count": 21,
   "id": "7e3e453d-7622-4035-a38a-a5ac97c42d0a",
   "metadata": {},
   "outputs": [],
   "source": [
    "def embedding(docs,encoder,type='sample'):\n",
    "    print(\"Embedding...\")\n",
    "    if type == 'sample':\n",
    "        corpus_embeddings = encoder.encode(docs, show_progress_bar=False)\n",
    "        return corpus_embeddings\n",
    "    elif type == 'population':\n",
    "        file_path = f'database/corpus_embeddings.npy'\n",
    "        try:\n",
    "            # Load pre-computed embeddings if they exist\n",
    "            corpus_embeddings = np.load(file_path)\n",
    "        except FileNotFoundError:\n",
    "            # Compute embeddings if they do not exist\n",
    "            corpus_embeddings = encoder.encode(docs, show_progress_bar=True)\n",
    "            # Save embeddings for future use\n",
    "            np.save(file_path, corpus_embeddings)\n",
    "        return corpus_embeddings"
   ]
  },
  {
   "cell_type": "markdown",
   "id": "98b65fdf-826f-4d80-96d6-c035f3db3ea3",
   "metadata": {},
   "source": [
    "We use this encoder since [SBERT](https://www.sbert.net/docs/sentence_transformer/pretrained_models.html) shows the performance of various SBERT model. Moreover, this model are handle good Vietnamese because I was manualy check it by hand. "
   ]
  },
  {
   "cell_type": "code",
   "execution_count": 27,
   "id": "38915b94-7fca-4b71-8d4d-6401b8bfdab4",
   "metadata": {},
   "outputs": [],
   "source": [
    "%%capture\n",
    "encoder = SentenceTransformer('sentence-transformers/paraphrase-multilingual-mpnet-base-v2')"
   ]
  },
  {
   "cell_type": "code",
   "execution_count": 37,
   "id": "2a04f555-50fe-4254-aec3-76c22d8f2dc7",
   "metadata": {},
   "outputs": [
    {
     "name": "stdout",
     "output_type": "stream",
     "text": [
      "Embedding...\n",
      "CPU times: total: 16.6 s\n",
      "Wall time: 6.05 s\n"
     ]
    }
   ],
   "source": [
    "%%time\n",
    "docs = processed_df.processed_comment.values\n",
    "corpus_embeddings = embedding(docs,encoder,type='sample')"
   ]
  },
  {
   "cell_type": "code",
   "execution_count": 40,
   "id": "490c0c1c-9a7d-4ba9-869d-75a104fcbe35",
   "metadata": {},
   "outputs": [
    {
     "data": {
      "text/plain": [
       "(array([[-0.07522741,  0.04226091, -0.00299444, ..., -0.05836292,\n",
       "         -0.01389816,  0.13570267],\n",
       "        [-0.13403764, -0.3085379 , -0.00700287, ..., -0.10716237,\n",
       "         -0.01595334, -0.00046053],\n",
       "        [ 0.02331897,  0.06717801, -0.02198911, ...,  0.04537337,\n",
       "         -0.00477611, -0.08457769],\n",
       "        ...,\n",
       "        [-0.08349197, -0.04923766, -0.00464056, ..., -0.00493112,\n",
       "          0.09841105,  0.08930065],\n",
       "        [-0.0814629 , -0.31173104, -0.00586778, ...,  0.02137453,\n",
       "          0.02712864,  0.0228137 ],\n",
       "        [ 0.01565422, -0.02806365, -0.01363612, ...,  0.04486922,\n",
       "          0.15557139, -0.00773376]], dtype=float32),\n",
       " (30, 768))"
      ]
     },
     "execution_count": 40,
     "metadata": {},
     "output_type": "execute_result"
    }
   ],
   "source": [
    "corpus_embeddings,corpus_embeddings.shape"
   ]
  },
  {
   "cell_type": "markdown",
   "id": "bf219fb6-3b83-4b3d-9622-af573f7b5960",
   "metadata": {},
   "source": [
    "# Population"
   ]
  },
  {
   "cell_type": "markdown",
   "id": "d19f09db-dd1b-48b6-9912-fbe6c30c8a9c",
   "metadata": {},
   "source": [
    "Since we need to extract model again and again, the re-use of corpus embedding are needed."
   ]
  },
  {
   "cell_type": "code",
   "execution_count": 41,
   "id": "bb023318-1379-4cb0-86f4-56338461cc17",
   "metadata": {},
   "outputs": [
    {
     "data": {
      "text/plain": [
       "(124603, 30)"
      ]
     },
     "execution_count": 41,
     "metadata": {},
     "output_type": "execute_result"
    }
   ],
   "source": [
    "df.shape"
   ]
  },
  {
   "cell_type": "code",
   "execution_count": 42,
   "id": "5928133c-32d0-46d8-ab5f-63c8381f60a4",
   "metadata": {},
   "outputs": [
    {
     "name": "stdout",
     "output_type": "stream",
     "text": [
      "Preprocesing...\n",
      "CPU times: total: 14min 44s\n",
      "Wall time: 14min 47s\n"
     ]
    },
    {
     "data": {
      "text/html": [
       "<div>\n",
       "<style scoped>\n",
       "    .dataframe tbody tr th:only-of-type {\n",
       "        vertical-align: middle;\n",
       "    }\n",
       "\n",
       "    .dataframe tbody tr th {\n",
       "        vertical-align: top;\n",
       "    }\n",
       "\n",
       "    .dataframe thead th {\n",
       "        text-align: right;\n",
       "    }\n",
       "</style>\n",
       "<table border=\"1\" class=\"dataframe\">\n",
       "  <thead>\n",
       "    <tr style=\"text-align: right;\">\n",
       "      <th></th>\n",
       "      <th>comment</th>\n",
       "      <th>processed_comment</th>\n",
       "    </tr>\n",
       "  </thead>\n",
       "  <tbody>\n",
       "    <tr>\n",
       "      <th>0</th>\n",
       "      <td>A tourist class hotel with very basic amenitie...</td>\n",
       "      <td>a tourist class hotel with very basic amenitie...</td>\n",
       "    </tr>\n",
       "    <tr>\n",
       "      <th>1</th>\n",
       "      <td>The hotel rooms etc are good but very very sti...</td>\n",
       "      <td>the hotel rooms etc are good but very very sti...</td>\n",
       "    </tr>\n",
       "    <tr>\n",
       "      <th>2</th>\n",
       "      <td>Really enjoy my stay here. Will stay again</td>\n",
       "      <td>really enjoy my stay here will stay again</td>\n",
       "    </tr>\n",
       "    <tr>\n",
       "      <th>3</th>\n",
       "      <td>excellent</td>\n",
       "      <td>excellent</td>\n",
       "    </tr>\n",
       "    <tr>\n",
       "      <th>4</th>\n",
       "      <td>Great and decent place for sightseeing and tours</td>\n",
       "      <td>great and decent place for sightseeing and tours</td>\n",
       "    </tr>\n",
       "    <tr>\n",
       "      <th>...</th>\n",
       "      <td>...</td>\n",
       "      <td>...</td>\n",
       "    </tr>\n",
       "    <tr>\n",
       "      <th>124598</th>\n",
       "      <td>Phòng ốc sạch sẽ, tiện nghi, nhân viên thân th...</td>\n",
       "      <td>phòng_ốc sạch_sẽ tiện_nghi nhân_viên thân_thiệ...</td>\n",
       "    </tr>\n",
       "    <tr>\n",
       "      <th>124599</th>\n",
       "      <td>Sạch sẽ, tiện nghi sẽ quay lại, ko có j để chê</td>\n",
       "      <td>sạch_sẽ tiện_nghi sẽ quay lại ko có j để chê</td>\n",
       "    </tr>\n",
       "    <tr>\n",
       "      <th>124600</th>\n",
       "      <td>Không gian sạch sẽ, thoải mái, giá cả phù hợp</td>\n",
       "      <td>không_gian sạch_sẽ thoải_mái giá_cả phù_hợp</td>\n",
       "    </tr>\n",
       "    <tr>\n",
       "      <th>124601</th>\n",
       "      <td>Sạch sẽ , thơm , sẽ trải nghiệm tiêdp</td>\n",
       "      <td>sạch_sẽ thơm sẽ trải nghiệm tiêdp</td>\n",
       "    </tr>\n",
       "    <tr>\n",
       "      <th>124602</th>\n",
       "      <td>Sạch sẽ , các b tiêpd tân dễ gần và nhiệt tình</td>\n",
       "      <td>sạch_sẽ các b tiêpd tân dễ gần và nhiệt_tình</td>\n",
       "    </tr>\n",
       "  </tbody>\n",
       "</table>\n",
       "<p>124603 rows × 2 columns</p>\n",
       "</div>"
      ],
      "text/plain": [
       "                                                  comment  \\\n",
       "0       A tourist class hotel with very basic amenitie...   \n",
       "1       The hotel rooms etc are good but very very sti...   \n",
       "2              Really enjoy my stay here. Will stay again   \n",
       "3                                               excellent   \n",
       "4        Great and decent place for sightseeing and tours   \n",
       "...                                                   ...   \n",
       "124598  Phòng ốc sạch sẽ, tiện nghi, nhân viên thân th...   \n",
       "124599     Sạch sẽ, tiện nghi sẽ quay lại, ko có j để chê   \n",
       "124600      Không gian sạch sẽ, thoải mái, giá cả phù hợp   \n",
       "124601              Sạch sẽ , thơm , sẽ trải nghiệm tiêdp   \n",
       "124602     Sạch sẽ , các b tiêpd tân dễ gần và nhiệt tình   \n",
       "\n",
       "                                        processed_comment  \n",
       "0       a tourist class hotel with very basic amenitie...  \n",
       "1       the hotel rooms etc are good but very very sti...  \n",
       "2               really enjoy my stay here will stay again  \n",
       "3                                               excellent  \n",
       "4        great and decent place for sightseeing and tours  \n",
       "...                                                   ...  \n",
       "124598  phòng_ốc sạch_sẽ tiện_nghi nhân_viên thân_thiệ...  \n",
       "124599       sạch_sẽ tiện_nghi sẽ quay lại ko có j để chê  \n",
       "124600        không_gian sạch_sẽ thoải_mái giá_cả phù_hợp  \n",
       "124601                  sạch_sẽ thơm sẽ trải nghiệm tiêdp  \n",
       "124602       sạch_sẽ các b tiêpd tân dễ gần và nhiệt_tình  \n",
       "\n",
       "[124603 rows x 2 columns]"
      ]
     },
     "execution_count": 42,
     "metadata": {},
     "output_type": "execute_result"
    }
   ],
   "source": [
    "%%time\n",
    "processed_df = preprocess(df,type = 'population')\n",
    "processed_df[['comment','processed_comment']]"
   ]
  },
  {
   "cell_type": "code",
   "execution_count": 43,
   "id": "aa7c505e-157e-47c6-9738-986d597ec08b",
   "metadata": {},
   "outputs": [
    {
     "name": "stdout",
     "output_type": "stream",
     "text": [
      "Embedding...\n"
     ]
    },
    {
     "data": {
      "application/vnd.jupyter.widget-view+json": {
       "model_id": "4ae0e03a16154e95bb6c37f808a7c93a",
       "version_major": 2,
       "version_minor": 0
      },
      "text/plain": [
       "Batches:   0%|          | 0/3894 [00:00<?, ?it/s]"
      ]
     },
     "metadata": {},
     "output_type": "display_data"
    },
    {
     "name": "stdout",
     "output_type": "stream",
     "text": [
      "CPU times: total: 10h 39min 36s\n",
      "Wall time: 2h 52min 16s\n"
     ]
    }
   ],
   "source": [
    "%%time\n",
    "docs = processed_df.processed_comment.values\n",
    "corpus_embeddings = embedding(docs,encoder,type='population')"
   ]
  },
  {
   "cell_type": "code",
   "execution_count": 44,
   "id": "05c6c260-7bdd-44bf-965f-a888f693e793",
   "metadata": {},
   "outputs": [
    {
     "data": {
      "text/plain": [
       "(124603, 768)"
      ]
     },
     "execution_count": 44,
     "metadata": {},
     "output_type": "execute_result"
    }
   ],
   "source": [
    "corpus_embeddings.shape"
   ]
  },
  {
   "cell_type": "code",
   "execution_count": null,
   "id": "d27c7626-580b-4c9d-b1c6-ff78c9533b97",
   "metadata": {},
   "outputs": [],
   "source": []
  }
 ],
 "metadata": {
  "kernelspec": {
   "display_name": "Python 3 (ipykernel)",
   "language": "python",
   "name": "python3"
  },
  "language_info": {
   "codemirror_mode": {
    "name": "ipython",
    "version": 3
   },
   "file_extension": ".py",
   "mimetype": "text/x-python",
   "name": "python",
   "nbconvert_exporter": "python",
   "pygments_lexer": "ipython3",
   "version": "3.10.10"
  }
 },
 "nbformat": 4,
 "nbformat_minor": 5
}
